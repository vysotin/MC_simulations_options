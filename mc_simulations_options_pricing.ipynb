{
 "cells": [
  {
   "cell_type": "code",
   "id": "initial_id",
   "metadata": {
    "collapsed": true,
    "ExecuteTime": {
     "end_time": "2025-07-13T06:31:55.313070Z",
     "start_time": "2025-07-13T06:31:54.804792Z"
    }
   },
   "source": [
    "import numpy as np\n",
    "from scipy import stats as st\n",
    "\n",
    "from simulations import SimulationModel, heston_model_fun\n",
    "\n",
    "RND_SEED = 42"
   ],
   "outputs": [],
   "execution_count": 21
  },
  {
   "metadata": {},
   "cell_type": "markdown",
   "source": "",
   "id": "3d72d75a7583e603"
  },
  {
   "metadata": {
    "ExecuteTime": {
     "end_time": "2025-07-13T06:32:00.426873Z",
     "start_time": "2025-07-13T06:32:00.422241Z"
    }
   },
   "cell_type": "code",
   "source": [
    "def european_option_price(option_type: str, simulation_model: SimulationModel, K: float, S0: float,  r: float,\n",
    "                          T: float, steps: int,\n",
    "                          paths: int, confidence_level: float=0.95) -> float:\n",
    "    \"\"\"\n",
    "    Parameters:\n",
    "    option_type (str): 'call' or 'put'\n",
    "    simulation_model (SimulationModel): a dataclass containing the model name, model function and extra arguments\n",
    "    K (float): strike price\n",
    "    S0 (float): initial stock price\n",
    "    r (float): risk-free rate (%)\n",
    "    T (float): time to maturity (years)\n",
    "    steps (int): number of time steps\n",
    "    paths (int): number of simulations\n",
    "    confidence_level (float, optional): confidence level for confidence interval. Defaults to 0.95.\n",
    "    Returns:\n",
    "    mean (float): mean of option price\n",
    "    std_error (float): standard deviation of option price\n",
    "    ci_lower (float): lower limit of confidence interval\n",
    "    ci_upper (float): upper limit of confidence interval\n",
    "    \"\"\"\n",
    "\n",
    "    S = simulation_model.model(S0, r, T, steps, paths, **simulation_model.extra_args)\n",
    "    S = S.T\n",
    "    # Calculate the payoff for each path\n",
    "    discount_factor = np.exp(-r * T)\n",
    "    payoff = np.maximum(S[:, -1] - K, 0)\n",
    "    std_error= np.std(payoff) * discount_factor / np.sqrt(steps)\n",
    "    # Discount the payoff back to present value\n",
    "    if option_type == 'call':\n",
    "        payoff = np.maximum(S[:, -1] - K, 0)\n",
    "    elif option_type == 'put':\n",
    "        payoff = np.maximum(K - S[:, -1], 0)\n",
    "    option_price = discount_factor * np.mean(payoff)\n",
    "    z_score = st.norm.ppf(1 - (1 - confidence_level) / 2)\n",
    "    margin_error = z_score * std_error\n",
    "    ci_lower = option_price - margin_error\n",
    "    ci_upper = option_price + margin_error\n",
    "    return option_price, std_error, ci_lower, ci_upper"
   ],
   "id": "d40a2f1e6ea2ff44",
   "outputs": [],
   "execution_count": 22
  },
  {
   "metadata": {},
   "cell_type": "markdown",
   "source": "",
   "id": "2fbaabfd9c32b2e7"
  },
  {
   "metadata": {
    "ExecuteTime": {
     "end_time": "2025-07-13T06:32:11.416320Z",
     "start_time": "2025-07-13T06:32:09.871141Z"
    }
   },
   "cell_type": "code",
   "source": [
    "sim_model = SimulationModel(\"Heston\", heston_model_fun, dict(v0=0.01, kappa=1.0, theta=0.04, xi=0.1, rho=-0.7))\n",
    "\n",
    "prices = european_option_price(\"call\", sim_model, S0=98000, K=10800, r=3.0, T=100, steps=100,  paths=100000)\n",
    "prices"
   ],
   "id": "a5f1b7d9c0cae7f1",
   "outputs": [
    {
     "data": {
      "text/plain": [
       "(np.float64(99884.12787925405),\n",
       " np.float64(36318.86574902259),\n",
       " np.float64(28700.45905182445),\n",
       " np.float64(171067.79670668364))"
      ]
     },
     "execution_count": 23,
     "metadata": {},
     "output_type": "execute_result"
    }
   ],
   "execution_count": 23
  },
  {
   "metadata": {
    "ExecuteTime": {
     "end_time": "2025-07-13T06:31:32.744778Z",
     "start_time": "2025-07-13T06:31:32.731280Z"
    }
   },
   "cell_type": "code",
   "source": "",
   "id": "e9c7e0100d5e1491",
   "outputs": [],
   "execution_count": null
  },
  {
   "metadata": {},
   "cell_type": "code",
   "outputs": [],
   "execution_count": null,
   "source": [
    "from crypto_exchange_utils import *\n",
    "underlying_symbol = 'BTC'\n",
    "exchange_name = 'binance'\n",
    "df_underlying = load_underlying_ohlcv_from_csv(exchange_name, underlying_symbol, '1d', '2020-01-01 00:00:00Z', '2024-01-01 00:00:00Z')"
   ],
   "id": "2ac17e74ca8463a"
  }
 ],
 "metadata": {
  "kernelspec": {
   "display_name": "Python 3",
   "language": "python",
   "name": "python3"
  },
  "language_info": {
   "codemirror_mode": {
    "name": "ipython",
    "version": 2
   },
   "file_extension": ".py",
   "mimetype": "text/x-python",
   "name": "python",
   "nbconvert_exporter": "python",
   "pygments_lexer": "ipython2",
   "version": "2.7.6"
  }
 },
 "nbformat": 4,
 "nbformat_minor": 5
}
