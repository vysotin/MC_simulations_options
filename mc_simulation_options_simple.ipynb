{
 "cells": [
  {
   "cell_type": "code",
   "id": "initial_id",
   "metadata": {
    "collapsed": true,
    "ExecuteTime": {
     "end_time": "2025-07-12T05:20:26.696019Z",
     "start_time": "2025-07-12T05:20:26.693338Z"
    }
   },
   "source": [
    "import numpy as np\n",
    "RND_SEED = 42"
   ],
   "outputs": [],
   "execution_count": 14
  },
  {
   "metadata": {
    "ExecuteTime": {
     "end_time": "2025-07-12T05:20:36.369890Z",
     "start_time": "2025-07-12T05:20:36.363599Z"
    }
   },
   "cell_type": "code",
   "source": [
    "def european_call(S0: float, K: float, sigma: float, r: float, T: float, N: int, M: int, confidence_level: float=0.95) -> float:\n",
    "    # S0: initial stock price\n",
    "    # K: strike price\n",
    "    # sigma: volatility (%)\n",
    "    # r: risk-free rate (%)\n",
    "    # T: time to maturity (years)\n",
    "    # N: number of time steps\n",
    "    # M: number of simulations\n",
    "    # returns: mean and standard deviation of option price\n",
    "\n",
    "    dt = T/N\n",
    "    np.random.seed(RND_SEED)\n",
    "    S = np.zeros((M, N+1))\n",
    "    S[:, 0] = S0\n",
    "    discount_factor = np.exp(-r * T)\n",
    "    for t in range(1, N+1):\n",
    "        Z = np.random.standard_normal(M) # Generate random variables\n",
    "        S[:, t] = S[:, t-1] * np.exp((r - 0.5 * sigma**2) * dt + sigma * np.sqrt(dt) * Z)\n",
    "    # Calculate the payoff for each path\n",
    "    payoff = np.maximum(S[:, -1] - K, 0)\n",
    "    std_error= np.std(payoff) * discount_factor / np.sqrt(N)\n",
    "    # Discount the payoff back to present value\n",
    "    option_price = np.exp(-r * T) * np.mean(payoff)\n",
    "    return option_price\n"
   ],
   "id": "d40a2f1e6ea2ff44",
   "outputs": [],
   "execution_count": 15
  },
  {
   "metadata": {},
   "cell_type": "markdown",
   "source": "",
   "id": "2fbaabfd9c32b2e7"
  },
  {
   "metadata": {
    "ExecuteTime": {
     "end_time": "2025-07-12T05:27:22.808707Z",
     "start_time": "2025-07-12T05:27:22.804943Z"
    }
   },
   "cell_type": "code",
   "source": [
    "sim_price = european_call(S0=98000, K=10800, sigma=0.25, r=3.0, T=100, N=10,  M=1000)\n",
    "sim_price"
   ],
   "id": "a5f1b7d9c0cae7f1",
   "outputs": [],
   "execution_count": 19
  },
  {
   "metadata": {
    "ExecuteTime": {
     "end_time": "2025-07-12T05:27:26.156755Z",
     "start_time": "2025-07-12T05:27:26.153838Z"
    }
   },
   "cell_type": "code",
   "source": "",
   "id": "e9c7e0100d5e1491",
   "outputs": [
    {
     "data": {
      "text/plain": [
       "np.float64(92886.07146372268)"
      ]
     },
     "execution_count": 20,
     "metadata": {},
     "output_type": "execute_result"
    }
   ],
   "execution_count": 20
  },
  {
   "metadata": {},
   "cell_type": "code",
   "outputs": [],
   "execution_count": null,
   "source": [
    "from crypto_exchange_utils import *\n",
    "underlying_symbol = 'BTC'\n",
    "exchange_name = 'binance'\n",
    "df_underlying = load_underlying_ohlcv_from_csv(exchange_name, underlying_symbol, '1d', '2020-01-01 00:00:00Z', '2024-01-01 00:00:00Z')"
   ],
   "id": "2ac17e74ca8463a"
  }
 ],
 "metadata": {
  "kernelspec": {
   "display_name": "Python 3",
   "language": "python",
   "name": "python3"
  },
  "language_info": {
   "codemirror_mode": {
    "name": "ipython",
    "version": 2
   },
   "file_extension": ".py",
   "mimetype": "text/x-python",
   "name": "python",
   "nbconvert_exporter": "python",
   "pygments_lexer": "ipython2",
   "version": "2.7.6"
  }
 },
 "nbformat": 4,
 "nbformat_minor": 5
}
